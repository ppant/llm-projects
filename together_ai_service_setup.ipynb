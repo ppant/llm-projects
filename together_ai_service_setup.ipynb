{
 "cells": [
  {
   "cell_type": "code",
   "execution_count": 1,
   "id": "8192fb93",
   "metadata": {},
   "outputs": [],
   "source": [
    "# Set up environment if you saved the API key in a .env file\n",
    "from dotenv import load_dotenv, find_dotenv\n",
    "_ = load_dotenv(find_dotenv())"
   ]
  },
  {
   "cell_type": "code",
   "execution_count": 12,
   "id": "5a3dbc39",
   "metadata": {},
   "outputs": [],
   "source": [
    "# define the together.ai API url\n",
    "url = \"https://api.together.xyz/inference\""
   ]
  },
  {
   "cell_type": "code",
   "execution_count": 3,
   "id": "a606e929",
   "metadata": {},
   "outputs": [],
   "source": [
    "# Set up the together.ai API key\n",
    "import os\n",
    "together_api_key = os.getenv('TOGETHER_API_KEY')"
   ]
  },
  {
   "cell_type": "code",
   "execution_count": 4,
   "id": "10a50f56",
   "metadata": {},
   "outputs": [
    {
     "data": {
      "text/plain": [
       "'2ba0e7195028e71675f4ac4fa3d2627f6e5f91e35c107402ca1833b262d7c964'"
      ]
     },
     "execution_count": 4,
     "metadata": {},
     "output_type": "execute_result"
    }
   ],
   "source": [
    "together_api_key\n"
   ]
  },
  {
   "cell_type": "code",
   "execution_count": 5,
   "id": "731fa036",
   "metadata": {},
   "outputs": [],
   "source": [
    "# Store keywords that will be passed to the API\n",
    "headers = {\n",
    "    \"Authorization\": f\"Bearer {together_api_key}\",\n",
    "    \"Content-Type\": \"application/json\"}"
   ]
  },
  {
   "cell_type": "code",
   "execution_count": 6,
   "id": "de32f4b7",
   "metadata": {},
   "outputs": [],
   "source": [
    "# Choose the model to call\n",
    "model=\"togethercomputer/llama-2-7b-chat\""
   ]
  },
  {
   "cell_type": "code",
   "execution_count": 30,
   "id": "f8d44f1f",
   "metadata": {},
   "outputs": [],
   "source": [
    "prompt = \"\"\"\n",
    "Please write me a birthday card for my wife.\n",
    "\"\"\""
   ]
  },
  {
   "cell_type": "code",
   "execution_count": 31,
   "id": "2f915dc9",
   "metadata": {},
   "outputs": [
    {
     "name": "stdout",
     "output_type": "stream",
     "text": [
      "[INST]\n",
      "Please write me a birthday card for my wife.\n",
      "[/INST]\n"
     ]
    }
   ],
   "source": [
    "# Add instruction tags to the prompt\n",
    "prompt = f\"[INST]{prompt}[/INST]\"\n",
    "print(prompt)"
   ]
  },
  {
   "cell_type": "code",
   "execution_count": 32,
   "id": "b6d228ba",
   "metadata": {},
   "outputs": [],
   "source": [
    "# Set temperature and max_tokens\n",
    "temperature = 0.0\n",
    "max_tokens = 1024"
   ]
  },
  {
   "cell_type": "code",
   "execution_count": 33,
   "id": "d09d5895",
   "metadata": {},
   "outputs": [
    {
     "data": {
      "text/plain": [
       "{'model': 'togethercomputer/llama-2-7b-chat',\n",
       " 'prompt': '[INST]\\nPlease write me a birthday card for my wife.\\n[/INST]',\n",
       " 'temperature': 0.0,\n",
       " 'max_tokens': 1024}"
      ]
     },
     "execution_count": 33,
     "metadata": {},
     "output_type": "execute_result"
    }
   ],
   "source": [
    "data = {\n",
    "    \"model\": model,\n",
    "    \"prompt\": prompt,\n",
    "    \"temperature\": temperature,\n",
    "    \"max_tokens\": max_tokens\n",
    "}\n",
    "data"
   ]
  },
  {
   "cell_type": "code",
   "execution_count": 34,
   "id": "80332936",
   "metadata": {},
   "outputs": [],
   "source": [
    "import requests\n",
    "response = requests.post(url,\n",
    "                         headers=headers,\n",
    "                         json=data)"
   ]
  },
  {
   "cell_type": "code",
   "execution_count": 35,
   "id": "fcbaa717",
   "metadata": {},
   "outputs": [
    {
     "data": {
      "text/plain": [
       "<Response [200]>"
      ]
     },
     "execution_count": 35,
     "metadata": {},
     "output_type": "execute_result"
    }
   ],
   "source": [
    "response"
   ]
  },
  {
   "cell_type": "code",
   "execution_count": 37,
   "id": "90577187",
   "metadata": {},
   "outputs": [
    {
     "data": {
      "text/plain": [
       "\"  Of course, I'd be happy to help you write a birthday card for your wife! Here's a suggestion:\\n\\nDear [Wife's Name],\\n\\nHappy birthday to the most amazing woman in my life! Today is all about celebrating you and all the love, joy, and happiness you bring to our relationship.\\n\\nYou are the sunshine that brightens up my day, the calm in every storm, and the safe haven where I can always find peace. You are my partner, my friend, and my everything.\\n\\nAs you celebrate another year of life, I hope you know how much I appreciate you and all that you do. You deserve all the happiness in the world, and I'm so grateful to be by your side to share it with you.\\n\\nHere's to another year of love, laughter, and adventures together! I love you more than words can express.\\n\\nHappy birthday, my darling!\\n\\nWith all my love,\\n[Your Name]\""
      ]
     },
     "execution_count": 37,
     "metadata": {},
     "output_type": "execute_result"
    }
   ],
   "source": [
    "response.json()['output']['choices'][0]['text']"
   ]
  },
  {
   "cell_type": "code",
   "execution_count": null,
   "id": "dc9d8852",
   "metadata": {},
   "outputs": [],
   "source": []
  }
 ],
 "metadata": {
  "kernelspec": {
   "display_name": "Python 3 (ipykernel)",
   "language": "python",
   "name": "python3"
  },
  "language_info": {
   "codemirror_mode": {
    "name": "ipython",
    "version": 3
   },
   "file_extension": ".py",
   "mimetype": "text/x-python",
   "name": "python",
   "nbconvert_exporter": "python",
   "pygments_lexer": "ipython3",
   "version": "3.9.13"
  }
 },
 "nbformat": 4,
 "nbformat_minor": 5
}
